{
 "cells": [
  {
   "cell_type": "markdown",
   "id": "77f610cf",
   "metadata": {},
   "source": [
    "# Plate motion module\n",
    "\n",
    "The Midgard **math.plate_motion** module provides functionality to determine tectonic plate motion. Following tectonic plate motion models can be used with plate motion module:\n",
    "\n",
    "    - ITRF2008\n",
    "    - ITRF2014\n",
    "    - ITRF2020\n",
    "    - NNR-MORVEL56\n",
    "    \n",
    "which are described in the references:\n",
    "\n",
    "   **Altamimi, Z., Metivier, L., and Collilieux, X. (2012):** *ITRF2008 plate motion model*, Journal of Geophysical Research, https://doi.org/10.1029/2011JB008930\n",
    "\n",
    "   **Altamimi, Z., Metivier, L., Rebischung, P., Rouby, H. and Collilieux, X. (2017):** *ITRF2014 plate motion model*, Geophysical Journal International, https://doi.org/10.1093/gji/ggx136\n",
    "\n",
    "   **Altamimi, Z., Metivier, L., Rebischung, P., Collilieux, X., Charnard, K. and Barneoud, J. (2023):** *\"ITRF2020 plate motion model\"*, Geophysical Research Letters, doi: 10.1029/2023GL106373\n",
    "\n",
    "   **Argus, D.F., Gordon, R.G. and DeMets, C. (2011):** *Geologically current motion of 56 plates relative to the no-net-rotation reference frame*, Geochemistry, Geophysics, Geosystems, 12, No. 11, 13 pp., https://doi.org/10.1029/2011GC003751"
   ]
  },
  {
   "cell_type": "markdown",
   "id": "6bd6e552",
   "metadata": {},
   "source": [
    "## Use plate_motion module\n",
    "\n",
    "The plate motion models are defined as data classes in Midgard module `midgard.collections.plate_motion_models`.\n",
    "\n",
    "An example is shown, how to use the `midgard.collections.plate_motion_models` module."
   ]
  },
  {
   "cell_type": "code",
   "execution_count": 1,
   "id": "f2a8f0e8",
   "metadata": {},
   "outputs": [
    {
     "name": "stdout",
     "output_type": "stream",
     "text": [
      "Tectonic plate models: itrf2020, itrf2014, itrf2008, nnr_morvel56\n",
      "\n",
      "TECTONIC PLATE MODEL\n",
      "Description: NNR-MORVEL56 plate motion model\n",
      "Name: nnr_morvel56\n",
      "Tectonic plates: amur, anta, arab, aust, capr, carb, coco, eura, indi, juan, lwan, macq, nazc, noam, nubi, pcfc, phil, rive, sand, scot, soam, soma, sund, sur_, yang\n",
      "\n",
      "ROTATION POLE OF TECTONIC PLATE\n",
      "Tectonic plate: eura (Eurasian plate)\n"
     ]
    }
   ],
   "source": [
    "# Third party import\n",
    "import numpy as np\n",
    "\n",
    "# Import plate motion models module\n",
    "from midgard.collections import plate_motion_models\n",
    "\n",
    "# Get list with available plate models\n",
    "models = plate_motion_models.models()\n",
    "print(f\"Tectonic plate models: {', '.join(models)}\\n\")\n",
    "\n",
    "# Get PlateMotionModel instance for a given tectonic name\n",
    "model = plate_motion_models.get(\"nnr_morvel56\")\n",
    "\n",
    "print(\"TECTONIC PLATE MODEL\")\n",
    "print(f\"Description: {model.description}\")\n",
    "print(f\"Name: {model.name}\")\n",
    "print(f\"Tectonic plates: {', '.join(model.plates)}\\n\")\n",
    "\n",
    "# Get RotationPole object for Eurasian tectonic plate\n",
    "pole = model.get_pole(\"eura\", unit=\"radian per year\")\n",
    "\n",
    "print(\"ROTATION POLE OF TECTONIC PLATE\")\n",
    "print(f\"Tectonic plate: {pole.name} ({pole.description})\")\n",
    "\n",
    "# Determine station velocity for given station position\n",
    "pos = np.array([2102928.189605, 721619.617278, 5958196.398820])\n",
    "pole_vec = [pole.wx, pole.wy, pole.wz]\n",
    "vel = np.cross(pole_vec, pos)"
   ]
  },
  {
   "cell_type": "markdown",
   "id": "b866f9b3",
   "metadata": {},
   "source": [
    "An example is shown, how to use the `midgard.math.plate_motion module`:"
   ]
  },
  {
   "cell_type": "code",
   "execution_count": 16,
   "id": "a760f231",
   "metadata": {},
   "outputs": [
    {
     "name": "stdout",
     "output_type": "stream",
     "text": [
      "Velocity given in geocentric coordinates (X,Y,Z) in [m/yr]: [-0.01674597  0.01049713  0.0046391 ]\n"
     ]
    }
   ],
   "source": [
    "# Third party import\n",
    "import numpy as np\n",
    "\n",
    "# Import PlateMotion class\n",
    "from midgard.math.plate_motion import PlateMotion\n",
    "\n",
    "# Generate a instance of the PlateMotion class by defining tectonic plate \n",
    "# and tectonic plate model\n",
    "pm = PlateMotion(plate=\"eura\", model=\"nnr_morvel56\")\n",
    "\n",
    "# Determine velocity for a given position\n",
    "pos = np.array([2102928.1896, 721619.6173, 5958196.3988]) # in meter\n",
    "vel = pm.get_velocity(pos) # in m/yr\n",
    "\n",
    "print(f\"Velocity given in geocentric coordinates (X,Y,Z) in [m/yr]: {vel}\")"
   ]
  },
  {
   "cell_type": "markdown",
   "id": "4f4eb499-6263-40ae-9598-7df7bbe78cee",
   "metadata": {},
   "source": [
    "The velocity given in geocentric coordinates is converted to topocentric coordinates in the following example:"
   ]
  },
  {
   "cell_type": "code",
   "execution_count": 17,
   "id": "1960132c-a541-4084-8b3d-9a68bf304572",
   "metadata": {},
   "outputs": [
    {
     "name": "stdout",
     "output_type": "stream",
     "text": [
      "Velocity given in topocentric coordinates (East, North, Up) in [m/yr]: [1.53640987e-02 1.32695956e-02 2.91193164e-05]\n"
     ]
    }
   ],
   "source": [
    "# Import Position and PositionDelta class\n",
    "from midgard.data.position import Position, PositionDelta\n",
    "\n",
    "# Get Position instance, which represents the reference coordinate. The reference coordinates represents \n",
    "# the origin of the topocentric coordinate system.\n",
    "ref_pos = Position(\n",
    "            val=pos, \n",
    "            system='trs',\n",
    "       )\n",
    "\n",
    "# Get PositionDelta instance by using velocity and reference position given in geocentric (terrestial \n",
    "# reference system - TRS) coordinates\n",
    "dvel = PositionDelta(\n",
    "            val=vel, \n",
    "            system='trs',\n",
    "            ref_pos = ref_pos,\n",
    "       )\n",
    "print(f\"Velocity given in topocentric coordinates (East, North, Up) in [m/yr]: {dvel.enu}\")"
   ]
  },
  {
   "cell_type": "code",
   "execution_count": null,
   "id": "03595d4d-d5bc-436b-af82-c0384ce9b174",
   "metadata": {},
   "outputs": [],
   "source": []
  }
 ],
 "metadata": {
  "kernelspec": {
   "display_name": "Python 3 (ipykernel)",
   "language": "python",
   "name": "python3"
  },
  "language_info": {
   "codemirror_mode": {
    "name": "ipython",
    "version": 3
   },
   "file_extension": ".py",
   "mimetype": "text/x-python",
   "name": "python",
   "nbconvert_exporter": "python",
   "pygments_lexer": "ipython3",
   "version": "3.12.3"
  }
 },
 "nbformat": 4,
 "nbformat_minor": 5
}
